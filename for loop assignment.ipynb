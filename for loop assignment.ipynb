{
 "cells": [
  {
   "cell_type": "code",
   "execution_count": 5,
   "id": "1dde2536-b2b9-4608-af6d-5500114dade4",
   "metadata": {},
   "outputs": [
    {
     "name": "stdout",
     "output_type": "stream",
     "text": [
      "55 3628800\n",
      "55 3628800\n"
     ]
    }
   ],
   "source": [
    "  # Q2. Write a python program to print the sum and product of the first 10 natural numbers using for\n",
    "  # and while loop.\n",
    "\n",
    "sum = 0\n",
    "product = 1\n",
    "#using for loop\n",
    "for i in range(1,11,1) :\n",
    "    sum = sum + i\n",
    "    product = product * i\n",
    "    \n",
    "print(sum,product)\n",
    "\n",
    "#using while loop\n",
    "sum = 0\n",
    "product = 1\n",
    "counter = 1\n",
    "\n",
    "while counter <= 10 :\n",
    "    sum = sum + counter\n",
    "    product = product * counter\n",
    "    counter += 1\n",
    "    \n",
    "print(sum,product)"
   ]
  },
  {
   "cell_type": "code",
   "execution_count": null,
   "id": "d3fae5e5-535c-4451-97f0-4e1aaf112b42",
   "metadata": {},
   "outputs": [],
   "source": [
    "#  Q3. Create a python program to compute the electricity bill for a household.\n",
    "# The per-unit charges in rupees are as follows: For the first 100 units, the user will be charged Rs. 4.5 per\n",
    "# unit, for the next 100 units, the user will be charged Rs. 6 per unit, and for the next 100 units, the user will\n",
    "# be charged Rs. 10 per unit, After 300 units and above the user will be charged Rs. 20 per unit.\n",
    "# You are required to take the units of electricity consumed in a month from the user as input.\n",
    "\n",
    "\n",
    "unit = int(input(\"Enter the number of units consumed in a month : \"))\n",
    "electicityBill = 0\n",
    "\n",
    "if  unit <= 100 :\n",
    "    electricityBill = unit * 4.5\n",
    "    \n",
    "elif unit > 100 and unit <= 200 :\n",
    "    electricityBill = (100 * 4.5) + ((unit-100) * 6) \n",
    "    # electricityBill = electricityBill + (unit - 100) * 6\n",
    "    \n",
    "elif unit > 200 and unit <= 300 :\n",
    "    electricityBill = (100 * 4.5) + (100 * 6) + ((unit - 200) * 10)\n",
    "    \n",
    "else :\n",
    "    electricityBill = (100 * 4.5) + (100 * 6) + (100 * 10) + ((unit - 300) * 20)\n",
    "    \n",
    "electricityBill"
   ]
  },
  {
   "cell_type": "code",
   "execution_count": 6,
   "id": "996ba45e-a803-479b-bfc9-f466fcf7788d",
   "metadata": {},
   "outputs": [
    {
     "name": "stdout",
     "output_type": "stream",
     "text": [
      "[2, 4, 5, 6, 8, 10, 12, 14, 15, 16, 18, 20, 22, 24, 25, 26, 28, 30, 32, 34, 35, 36, 38, 40, 42, 44, 45, 46, 48, 50, 52, 54, 55, 56, 58, 60, 62, 64, 65, 66, 68, 70, 72, 74, 75, 76, 78, 80, 82, 84, 85, 86, 88, 90, 92, 94, 95, 96, 98, 100]\n"
     ]
    }
   ],
   "source": [
    "# Q4. Create a list of numbers from 1 to 100. Use for loop and while loop to calculate the cube of each\n",
    "# number and if the cube of that number is divisible by 4 or 5 then append that number in a list and print\n",
    "# that list.\n",
    "\n",
    "#using for loop\n",
    "l1 = []\n",
    "for i in range(1,101,1) :\n",
    "    cube = i * i * i\n",
    "    if cube % 4 == 0 or cube % 5 == 0 :\n",
    "        l1.append(i)\n",
    "        \n",
    "print(l1)\n"
   ]
  },
  {
   "cell_type": "code",
   "execution_count": 10,
   "id": "9dc5f9cc-5466-4377-9add-bdbef34e65c1",
   "metadata": {},
   "outputs": [
    {
     "name": "stdout",
     "output_type": "stream",
     "text": [
      "[2, 4, 5, 6, 8, 10, 12, 14, 15, 16, 18, 20, 22, 24, 25, 26, 28, 30, 32, 34, 35, 36, 38, 40, 42, 44, 45, 46, 48, 50, 52, 54, 55, 56, 58, 60, 62, 64, 65, 66, 68, 70, 72, 74, 75, 76, 78, 80, 82, 84, 85, 86, 88, 90, 92, 94, 95, 96, 98, 100]\n"
     ]
    }
   ],
   "source": [
    "# Q4. Create a list of numbers from 1 to 100. Use for loop and while loop to calculate the cube of each\n",
    "# number and if the cube of that number is divisible by 4 or 5 then append that number in a list and print\n",
    "# that list.\n",
    "\n",
    "#using while loop\n",
    "l2 = []\n",
    "counter = 1\n",
    "while counter <= 100 :\n",
    "        cube = counter * counter * counter\n",
    "        if cube % 4 == 0 or cube % 5 == 0 :\n",
    "            l2.append(counter)\n",
    "           \n",
    "        counter += 1\n",
    "        \n",
    "print(l2)"
   ]
  },
  {
   "cell_type": "code",
   "execution_count": 9,
   "id": "932f4d39-175f-4383-aeb8-517d5d2934cd",
   "metadata": {},
   "outputs": [
    {
     "data": {
      "text/plain": [
       "12"
      ]
     },
     "execution_count": 9,
     "metadata": {},
     "output_type": "execute_result"
    }
   ],
   "source": [
    "# Q5. Write a program to filter count vowels in the below-given string.\n",
    "# string = \"I want to become a data scientist\"\n",
    "\n",
    "vowel = 0\n",
    "string = \"I want to become a data scientist\"\n",
    "for i in string :\n",
    "    if i == 'a' or i == 'e' or i == 'i' or i == 'o' or i == 'u' or i == 'A' or i == 'E' or i == 'I' or i == 'O' or i == 'U' :\n",
    "        vowel += 1\n",
    "vowel"
   ]
  },
  {
   "cell_type": "code",
   "execution_count": null,
   "id": "d7f0b7c0-a05d-4ac5-ac03-0520bfff2d7c",
   "metadata": {},
   "outputs": [],
   "source": []
  }
 ],
 "metadata": {
  "kernelspec": {
   "display_name": "Python 3 (ipykernel)",
   "language": "python",
   "name": "python3"
  },
  "language_info": {
   "codemirror_mode": {
    "name": "ipython",
    "version": 3
   },
   "file_extension": ".py",
   "mimetype": "text/x-python",
   "name": "python",
   "nbconvert_exporter": "python",
   "pygments_lexer": "ipython3",
   "version": "3.10.8"
  }
 },
 "nbformat": 4,
 "nbformat_minor": 5
}
