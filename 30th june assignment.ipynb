{
 "cells": [
  {
   "cell_type": "code",
   "execution_count": 3,
   "id": "ec52b453-5a2a-4c29-9a0c-79d95036d89a",
   "metadata": {},
   "outputs": [
    {
     "name": "stdin",
     "output_type": "stream",
     "text": [
      "Enter your percentage :  92\n"
     ]
    },
    {
     "name": "stdout",
     "output_type": "stream",
     "text": [
      "A Grade\n"
     ]
    }
   ],
   "source": [
    "# question 1\n",
    "\n",
    "percentage = int(input(\"Enter your percentage : \"))\n",
    "\n",
    "if percentage > 90 :\n",
    "    print(\"A Grade\")\n",
    "    \n",
    "elif percentage > 80 and percentage <= 90 :\n",
    "    print(\"B Grade\")\n",
    "    \n",
    "elif percentage >= 60 and percentage <= 80 :\n",
    "    print(\"C Grade\")\n",
    "    \n",
    "else :\n",
    "    print(\"D Grade\")"
   ]
  },
  {
   "cell_type": "code",
   "execution_count": 8,
   "id": "b9fb237a-5a57-4ea9-8dc7-b2b54a969b4a",
   "metadata": {},
   "outputs": [
    {
     "name": "stdin",
     "output_type": "stream",
     "text": [
      "Enter the cost of your bike :  20000\n"
     ]
    },
    {
     "name": "stdout",
     "output_type": "stream",
     "text": [
      "Your tax is : 5%\n",
      "Your tax is :  1000.0\n"
     ]
    }
   ],
   "source": [
    "# question 2\n",
    "\n",
    "cost = float(input(\"Enter the cost of your bike : \"))\n",
    "\n",
    "if cost > 100000 :\n",
    "    print(\"Your road tax is : 15%\")\n",
    "    tax = cost * (15/100) \n",
    "    print(\"Your tax is : \",tax)\n",
    "    \n",
    "elif cost > 50000 and cost <= 100000 :\n",
    "    print(\"Your tax is : 10%\")\n",
    "    tax = cost * (10/100) \n",
    "    print(\"Your tax is : \",tax)\n",
    "else : \n",
    "    print(\"Your tax is : 5%\")\n",
    "    tax = cost * (5/100) \n",
    "    print(\"Your tax is : \",tax)"
   ]
  },
  {
   "cell_type": "code",
   "execution_count": null,
   "id": "4a53b490-102a-49fe-8cfd-30299070727c",
   "metadata": {},
   "outputs": [],
   "source": [
    "# question 3\n",
    "\n",
    "city = input(\"Enter your city : \")\n",
    "\n",
    "if city == \"Delhi\" :\n",
    "    print(\"Monument of the city is : Red fort\")\n",
    "    \n",
    "elif city == \"Agra\" :\n",
    "    print(\"Monument of the city is : Taj Mahal\")\n",
    "\n",
    "elif city == \"Jaipur\" :\n",
    "    print(\"Monument of the city is : Jal Mahal\")"
   ]
  },
  {
   "cell_type": "code",
   "execution_count": 2,
   "id": "3f553a0f-030d-4397-8a35-d3012e44eef7",
   "metadata": {},
   "outputs": [
    {
     "name": "stdin",
     "output_type": "stream",
     "text": [
      "Enter the number of rows :  4\n"
     ]
    },
    {
     "name": "stdout",
     "output_type": "stream",
     "text": [
      "# # # # \n",
      "# # # # \n",
      "# # # # \n",
      "# # # # \n"
     ]
    }
   ],
   "source": [
    "# question 6\n",
    "\n",
    "#pattern 1\n",
    "# # # #\n",
    "# # # #\n",
    "# # # #\n",
    "# # # #\n",
    "\n",
    "row = int(input(\"Enter the number of rows : \"))\n",
    "counter = 1\n",
    "while counter <= row :\n",
    "    count = 1 \n",
    "    while count <= row :\n",
    "        print(\"#\",end = \" \")\n",
    "        count += 1\n",
    "    print()    \n",
    "    counter += 1"
   ]
  },
  {
   "cell_type": "code",
   "execution_count": 5,
   "id": "142f3428-d1eb-4b41-b0c8-883b5b8ac28f",
   "metadata": {},
   "outputs": [
    {
     "name": "stdin",
     "output_type": "stream",
     "text": [
      "Enter the number of rows :  5\n"
     ]
    },
    {
     "name": "stdout",
     "output_type": "stream",
     "text": [
      "# \n",
      "# # \n",
      "# # # \n",
      "# # # # \n",
      "# # # # # \n"
     ]
    }
   ],
   "source": [
    "# question 6\n",
    "\n",
    "#pattern 2\n",
    "# \n",
    "# # \n",
    "# # # \n",
    "# # # #\n",
    "\n",
    "row = int(input(\"Enter the number of rows : \"))\n",
    "counter = 1\n",
    "while counter <= row :\n",
    "    count = 1 \n",
    "    while count <= counter :\n",
    "        print(\"#\",end = \" \")\n",
    "        count += 1\n",
    "    print()    \n",
    "    counter += 1"
   ]
  },
  {
   "cell_type": "code",
   "execution_count": 7,
   "id": "c9e31b5f-b7e6-4980-903f-bebc1752bb5b",
   "metadata": {},
   "outputs": [
    {
     "name": "stdin",
     "output_type": "stream",
     "text": [
      "Enter the number of rows :  4\n"
     ]
    },
    {
     "name": "stdout",
     "output_type": "stream",
     "text": [
      "# # # # \n",
      "# # # \n",
      "# # \n",
      "# \n"
     ]
    }
   ],
   "source": [
    "# question 6\n",
    "\n",
    "#pattern 2\n",
    "# # # #\n",
    "# # #\n",
    "# #  \n",
    "# \n",
    "\n",
    "row = int(input(\"Enter the number of rows : \"))\n",
    "counter = 0\n",
    "while counter < row :\n",
    "    count = 1\n",
    "    while count <= row - counter :\n",
    "        print(\"#\",end = \" \")\n",
    "        count += 1\n",
    "    print()    \n",
    "    counter += 1"
   ]
  },
  {
   "cell_type": "code",
   "execution_count": 10,
   "id": "0023e2dc-24c3-4e4b-92f5-43fe257ed6c3",
   "metadata": {},
   "outputs": [
    {
     "name": "stdout",
     "output_type": "stream",
     "text": [
      "10 9 8 7 6 5 4 3 2 1 "
     ]
    }
   ],
   "source": [
    "# question 7\n",
    "\n",
    "count = 10\n",
    "while count > 0 :\n",
    "    \n",
    "    print(count , end = \" \")\n",
    "    count -= 1"
   ]
  },
  {
   "cell_type": "code",
   "execution_count": null,
   "id": "f8d4009d-f204-46f7-816d-5bbc60cec7d2",
   "metadata": {},
   "outputs": [],
   "source": []
  }
 ],
 "metadata": {
  "kernelspec": {
   "display_name": "Python 3 (ipykernel)",
   "language": "python",
   "name": "python3"
  },
  "language_info": {
   "codemirror_mode": {
    "name": "ipython",
    "version": 3
   },
   "file_extension": ".py",
   "mimetype": "text/x-python",
   "name": "python",
   "nbconvert_exporter": "python",
   "pygments_lexer": "ipython3",
   "version": "3.10.8"
  }
 },
 "nbformat": 4,
 "nbformat_minor": 5
}
