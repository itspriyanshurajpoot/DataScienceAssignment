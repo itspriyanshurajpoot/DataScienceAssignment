{
 "cells": [
  {
   "cell_type": "code",
   "execution_count": null,
   "id": "a86d365b-c884-4690-9268-0101ec17cb4c",
   "metadata": {},
   "outputs": [],
   "source": [
    "d1 = {}"
   ]
  },
  {
   "cell_type": "code",
   "execution_count": null,
   "id": "9cb92db8-40be-4fbf-a630-01ca5f55dabb",
   "metadata": {},
   "outputs": [],
   "source": [
    "type(d1)"
   ]
  },
  {
   "cell_type": "code",
   "execution_count": null,
   "id": "6a4bafd1-be04-4eca-aaf1-053863ed22cf",
   "metadata": {},
   "outputs": [],
   "source": [
    "d2 = {'name' : \"Priyanshu\" , 'class' : \"Graduation\" , 'subject' : \"B.Sc(Computer Science)\" , 'name' : \"Rishi\"}"
   ]
  },
  {
   "cell_type": "code",
   "execution_count": null,
   "id": "fc707cfb-7c6c-40d9-b401-05353e38f36f",
   "metadata": {},
   "outputs": [],
   "source": [
    "d2"
   ]
  },
  {
   "cell_type": "code",
   "execution_count": null,
   "id": "8a009ce9-25f2-4e5a-b770-3790f05d2388",
   "metadata": {},
   "outputs": [],
   "source": [
    "#we can not start key name using special character\n",
    "#we can use boolean value as key\n",
    "#we can use numeric value as key"
   ]
  },
  {
   "cell_type": "code",
   "execution_count": null,
   "id": "cb6bd614-fb2b-40fd-80dc-dc239e577001",
   "metadata": {},
   "outputs": [],
   "source": [
    "d2['name']"
   ]
  },
  {
   "cell_type": "code",
   "execution_count": null,
   "id": "9f8cd3e6-9481-499d-b902-a1697b0a7be4",
   "metadata": {},
   "outputs": [],
   "source": [
    "d3 = {'Company' : \"PWSkills\" , 'courses' : [\"Java with DSA and system design\" , \"Data Science\" , \"Web Development\"]}"
   ]
  },
  {
   "cell_type": "code",
   "execution_count": null,
   "id": "ba082033-4d20-4a09-928e-61c56a6f2f19",
   "metadata": {},
   "outputs": [],
   "source": [
    "d3"
   ]
  },
  {
   "cell_type": "code",
   "execution_count": null,
   "id": "4eb40c40-a3c5-4a50-ab4f-4c31ee2c84ca",
   "metadata": {},
   "outputs": [],
   "source": [
    "d3['courses']"
   ]
  },
  {
   "cell_type": "code",
   "execution_count": null,
   "id": "34b2ecdd-6b0a-47ce-a38f-5e6a18882c19",
   "metadata": {},
   "outputs": [],
   "source": [
    "d3['courses'][1]"
   ]
  },
  {
   "cell_type": "code",
   "execution_count": null,
   "id": "5f85d223-1ae2-4fcf-955c-ee6604aebe6d",
   "metadata": {},
   "outputs": [],
   "source": [
    "d4 = {'tuple' : (2,2,3,2,332,32) , 'list' : [21,22,23,22,32] , 'set' : {3,2,3,4} , 'dict' : {'web_dev' : 8 , 'Data science master' : 8 , 'Java with DSA and system design' : 8}}"
   ]
  },
  {
   "cell_type": "code",
   "execution_count": null,
   "id": "f8edbef6-594a-4b11-84bd-3087d7bcf907",
   "metadata": {},
   "outputs": [],
   "source": [
    "d4"
   ]
  },
  {
   "cell_type": "code",
   "execution_count": null,
   "id": "e48d89fa-768d-4eec-99c9-0f319328fc24",
   "metadata": {},
   "outputs": [],
   "source": [
    "d4['dict']['Java with DSA and system design']"
   ]
  },
  {
   "cell_type": "code",
   "execution_count": null,
   "id": "95c7a83a-220a-4c32-a769-8929a77ff86e",
   "metadata": {},
   "outputs": [],
   "source": [
    "#It is used to add a key or update the key \n",
    "d4['Friends'] = [\"Rishi\" , \"Mani\" , \"Sudhanshu\" ]"
   ]
  },
  {
   "cell_type": "code",
   "execution_count": null,
   "id": "a785d178-ec02-41a7-8c2f-bdcc8f2c7cf2",
   "metadata": {},
   "outputs": [],
   "source": [
    "d4"
   ]
  },
  {
   "cell_type": "code",
   "execution_count": null,
   "id": "a13ca865-1412-4889-8078-cb965cb28291",
   "metadata": {},
   "outputs": [],
   "source": [
    "#It is used to delete the key\n",
    "del d4['set']"
   ]
  },
  {
   "cell_type": "code",
   "execution_count": null,
   "id": "0e1c732a-e75c-49f1-8a3f-2b977d9992cb",
   "metadata": {},
   "outputs": [],
   "source": [
    "d4"
   ]
  },
  {
   "cell_type": "code",
   "execution_count": null,
   "id": "407f9530-fecd-4c8c-aec4-0246a6e19f84",
   "metadata": {},
   "outputs": [],
   "source": [
    "#it is used to get keys \n",
    "d4.keys()"
   ]
  },
  {
   "cell_type": "code",
   "execution_count": null,
   "id": "aa3fd8a1-0a32-4345-82a1-eda1ca81dcec",
   "metadata": {},
   "outputs": [],
   "source": [
    "list(d4.keys())"
   ]
  },
  {
   "cell_type": "code",
   "execution_count": null,
   "id": "f7d5d31c-13ad-4f52-8f2a-bf7736a6514a",
   "metadata": {},
   "outputs": [],
   "source": [
    "#It is used to get values from distionary\n",
    "d4.values()"
   ]
  },
  {
   "cell_type": "code",
   "execution_count": null,
   "id": "978078de-6593-43dd-ab90-9b3c97997ddf",
   "metadata": {},
   "outputs": [],
   "source": [
    "list(d4.values())"
   ]
  },
  {
   "cell_type": "code",
   "execution_count": null,
   "id": "449c4277-f0d2-48b2-b228-5838472d8a25",
   "metadata": {},
   "outputs": [],
   "source": [
    "#it is used to get keys and values as tuple\n",
    "d4.items()"
   ]
  },
  {
   "cell_type": "code",
   "execution_count": null,
   "id": "970f4d20-940f-4f59-8fb3-d9d1bbc532e1",
   "metadata": {},
   "outputs": [],
   "source": [
    "list(d4.items())"
   ]
  },
  {
   "cell_type": "code",
   "execution_count": 3,
   "id": "728d7dbd-9ac2-4e47-9627-089696279197",
   "metadata": {},
   "outputs": [
    {
     "name": "stdin",
     "output_type": "stream",
     "text": [
      "Enter the marks :  77\n"
     ]
    },
    {
     "name": "stdout",
     "output_type": "stream",
     "text": [
      "C Grade\n"
     ]
    }
   ],
   "source": [
    "marks = int(input(\"Enter the marks : \"))\n",
    "if(marks >= 90) : \n",
    "    print(\"A Grade\")\n",
    "    \n",
    "elif(marks >= 80 and marks < 90):\n",
    "    print(\"B Grade\")\n",
    "\n",
    "elif(marks >= 70 and marks < 80) : \n",
    "    print(\"C Grade\")\n",
    "    \n",
    "else :\n",
    "    print(\"D Grade\")"
   ]
  },
  {
   "cell_type": "code",
   "execution_count": 12,
   "id": "569b9f2a-4dac-4bd4-ad04-1a9346715d52",
   "metadata": {},
   "outputs": [
    {
     "name": "stdin",
     "output_type": "stream",
     "text": [
      "Enter the price :  5001\n"
     ]
    },
    {
     "name": "stdout",
     "output_type": "stream",
     "text": [
      "I will not purchase it \n",
      "This is too much\n"
     ]
    }
   ],
   "source": [
    "price = int(input(\"Enter the price : \"))\n",
    "\n",
    "if price > 1000 :\n",
    "    print(\"I will not purchase it \")\n",
    "    \n",
    "    if price > 5000 :\n",
    "            print(\"This is too much\")\n",
    "    \n",
    "           \n",
    "else : \n",
    "     print(\"I will purchase it\")\n",
    "       "
   ]
  },
  {
   "cell_type": "code",
   "execution_count": 13,
   "id": "b7b70280-d1f8-4745-afb1-32bfb051d957",
   "metadata": {},
   "outputs": [],
   "source": [
    "l = [\"priyanshu\" , \"kumar\" , \"singh\"]"
   ]
  },
  {
   "cell_type": "code",
   "execution_count": 14,
   "id": "59567a36-71a1-4b50-9170-894c11a43ab0",
   "metadata": {},
   "outputs": [
    {
     "data": {
      "text/plain": [
       "['priyanshu', 'kumar', 'singh']"
      ]
     },
     "execution_count": 14,
     "metadata": {},
     "output_type": "execute_result"
    }
   ],
   "source": [
    "l"
   ]
  },
  {
   "cell_type": "code",
   "execution_count": 25,
   "id": "6db04598-7bfe-4f76-8def-e9ff557feb53",
   "metadata": {},
   "outputs": [],
   "source": [
    "l1 = []\n",
    "for i in l:\n",
    "    #j = i.upper()\n",
    "    l1.append(i.upper())\n",
    "    "
   ]
  },
  {
   "cell_type": "code",
   "execution_count": 26,
   "id": "dfad4822-7db4-41ad-8c75-b70a6aa24b98",
   "metadata": {},
   "outputs": [
    {
     "data": {
      "text/plain": [
       "['PRIYANSHU', 'KUMAR', 'SINGH']"
      ]
     },
     "execution_count": 26,
     "metadata": {},
     "output_type": "execute_result"
    }
   ],
   "source": [
    "l1"
   ]
  },
  {
   "cell_type": "code",
   "execution_count": 32,
   "id": "d4303732-670b-44bc-a773-eb4080d3e613",
   "metadata": {},
   "outputs": [],
   "source": [
    "l = [2,3,\"Priyanshu\" , 23,43,\"Rishi\"]\n",
    "l1 = []\n",
    "l2 = []\n",
    "for i in l :\n",
    "    if type(i) == int :\n",
    "        l1.append(i)\n",
    "    else : \n",
    "        l2.append(i)"
   ]
  },
  {
   "cell_type": "code",
   "execution_count": 35,
   "id": "904da98f-c3a4-4e72-9904-e4190fcc0787",
   "metadata": {},
   "outputs": [
    {
     "name": "stdout",
     "output_type": "stream",
     "text": [
      "[2, 3, 23, 43] ['Priyanshu', 'Rishi']\n"
     ]
    }
   ],
   "source": [
    "print(l1,l2)\n"
   ]
  },
  {
   "cell_type": "code",
   "execution_count": null,
   "id": "68d001c6-c813-4643-b63a-4cc7715762aa",
   "metadata": {},
   "outputs": [],
   "source": []
  }
 ],
 "metadata": {
  "kernelspec": {
   "display_name": "Python 3 (ipykernel)",
   "language": "python",
   "name": "python3"
  },
  "language_info": {
   "codemirror_mode": {
    "name": "ipython",
    "version": 3
   },
   "file_extension": ".py",
   "mimetype": "text/x-python",
   "name": "python",
   "nbconvert_exporter": "python",
   "pygments_lexer": "ipython3",
   "version": "3.10.8"
  }
 },
 "nbformat": 4,
 "nbformat_minor": 5
}
